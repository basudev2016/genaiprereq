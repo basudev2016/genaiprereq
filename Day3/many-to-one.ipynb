{
 "cells": [
  {
   "cell_type": "code",
   "execution_count": 1,
   "metadata": {},
   "outputs": [
    {
     "name": "stdout",
     "output_type": "stream",
     "text": [
      "Epoch 1/10\n",
      "1/1 [==============================] - 2s 2s/step - loss: 0.6935 - accuracy: 0.4000\n",
      "Epoch 2/10\n",
      "1/1 [==============================] - 0s 18ms/step - loss: 0.6915 - accuracy: 0.8000\n",
      "Epoch 3/10\n",
      "1/1 [==============================] - 0s 13ms/step - loss: 0.6896 - accuracy: 0.6000\n",
      "Epoch 4/10\n",
      "1/1 [==============================] - 0s 10ms/step - loss: 0.6877 - accuracy: 0.6000\n",
      "Epoch 5/10\n",
      "1/1 [==============================] - 0s 14ms/step - loss: 0.6857 - accuracy: 0.6000\n",
      "Epoch 6/10\n",
      "1/1 [==============================] - 0s 12ms/step - loss: 0.6838 - accuracy: 0.6000\n",
      "Epoch 7/10\n",
      "1/1 [==============================] - 0s 6ms/step - loss: 0.6818 - accuracy: 0.6000\n",
      "Epoch 8/10\n",
      "1/1 [==============================] - 0s 13ms/step - loss: 0.6798 - accuracy: 0.6000\n",
      "Epoch 9/10\n",
      "1/1 [==============================] - 0s 11ms/step - loss: 0.6777 - accuracy: 0.6000\n",
      "Epoch 10/10\n",
      "1/1 [==============================] - 0s 8ms/step - loss: 0.6756 - accuracy: 0.6000\n",
      "1/1 [==============================] - 0s 401ms/step\n",
      "Sentiment: Positive\n"
     ]
    }
   ],
   "source": [
    "import numpy as np\n",
    "from tensorflow.keras.models import Sequential\n",
    "from tensorflow.keras.layers import Embedding, LSTM, Dense\n",
    "from tensorflow.keras.preprocessing.text import Tokenizer\n",
    "from tensorflow.keras.preprocessing.sequence import pad_sequences\n",
    "\n",
    "# Sample data\n",
    "sentences = [\n",
    "    \"This movie is fantastic\",\n",
    "    \"The plot was terrible\",\n",
    "    \"I loved the acting\",\n",
    "    \"I hated the ending\",\n",
    "    \"The visuals were stunning\",\n",
    "]\n",
    "labels = [1, 0, 1, 0, 1]  # 1 = Positive, 0 = Negative\n",
    "\n",
    "# Tokenize and preprocess data\n",
    "tokenizer = Tokenizer(num_words=10000)  # Keep the most frequent 10,000 words\n",
    "tokenizer.fit_on_texts(sentences)\n",
    "word_index = tokenizer.word_index\n",
    "sequences = tokenizer.texts_to_sequences(sentences)\n",
    "padded_sequences = pad_sequences(sequences, maxlen=10)  # Pad to a maximum length of 10 words\n",
    "\n",
    "# Build the model\n",
    "model = Sequential([\n",
    "    Embedding(input_dim=10000, output_dim=16, input_length=10),\n",
    "    LSTM(32),  # LSTM layer for Many-to-One modeling\n",
    "    Dense(1, activation='sigmoid')  # Output layer for binary classification\n",
    "])\n",
    "\n",
    "model.compile(optimizer='adam', loss='binary_crossentropy', metrics=['accuracy'])\n",
    "\n",
    "# Train the model\n",
    "model.fit(padded_sequences, np.array(labels), epochs=10, verbose=1)\n",
    "\n",
    "# Test the model with a new sentence\n",
    "test_sentence = [\"The movie was brilliant and touching\"]\n",
    "test_sequence = tokenizer.texts_to_sequences(test_sentence)\n",
    "test_padded = pad_sequences(test_sequence, maxlen=10)\n",
    "\n",
    "# Predict sentiment\n",
    "prediction = model.predict(test_padded)\n",
    "print(\"Sentiment:\", \"Positive\" if prediction[0][0] > 0.5 else \"Negative\")\n"
   ]
  }
 ],
 "metadata": {
  "kernelspec": {
   "display_name": "gnipre",
   "language": "python",
   "name": "python3"
  },
  "language_info": {
   "codemirror_mode": {
    "name": "ipython",
    "version": 3
   },
   "file_extension": ".py",
   "mimetype": "text/x-python",
   "name": "python",
   "nbconvert_exporter": "python",
   "pygments_lexer": "ipython3",
   "version": "3.11.9"
  }
 },
 "nbformat": 4,
 "nbformat_minor": 2
}
