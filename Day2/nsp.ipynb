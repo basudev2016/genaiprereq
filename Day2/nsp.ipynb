{
 "cells": [
  {
   "cell_type": "code",
   "execution_count": 1,
   "metadata": {},
   "outputs": [
    {
     "name": "stdout",
     "output_type": "stream",
     "text": [
      "Score for 'IsNext': 1.0000\n",
      "Score for 'NotNext': 0.0000\n",
      "Prediction: The second sentence logically follows the first sentence.\n"
     ]
    }
   ],
   "source": [
    "from transformers import BertTokenizer, BertForNextSentencePrediction\n",
    "import torch\n",
    "\n",
    "# Load the pre-trained BERT tokenizer and model for NSP\n",
    "tokenizer = BertTokenizer.from_pretrained(\"bert-base-uncased\")\n",
    "model = BertForNextSentencePrediction.from_pretrained(\"bert-base-uncased\")\n",
    "\n",
    "# Define two sentences for NSP\n",
    "sentence_a = \"The weather is nice today.\"\n",
    "sentence_b = \"I will go for a walk outside.\"\n",
    "\n",
    "# Tokenize and encode the input sentences as BERT expects\n",
    "inputs = tokenizer(sentence_a, sentence_b, return_tensors=\"pt\", truncation=True, padding=True)\n",
    "\n",
    "# Forward pass to get predictions\n",
    "with torch.no_grad():\n",
    "    outputs = model(**inputs)\n",
    "\n",
    "# Extract logits\n",
    "logits = outputs.logits\n",
    "softmax = torch.nn.functional.softmax(logits, dim=-1)\n",
    "\n",
    "# The first value corresponds to \"IsNext\" and the second to \"NotNext\"\n",
    "is_next_score, not_next_score = softmax[0]\n",
    "\n",
    "print(f\"Score for 'IsNext': {is_next_score:.4f}\")\n",
    "print(f\"Score for 'NotNext': {not_next_score:.4f}\")\n",
    "\n",
    "# Print prediction result\n",
    "if is_next_score > not_next_score:\n",
    "    print(\"Prediction: The second sentence logically follows the first sentence.\")\n",
    "else:\n",
    "    print(\"Prediction: The second sentence does NOT logically follow the first sentence.\")\n"
   ]
  }
 ],
 "metadata": {
  "kernelspec": {
   "display_name": "gnipre",
   "language": "python",
   "name": "python3"
  },
  "language_info": {
   "codemirror_mode": {
    "name": "ipython",
    "version": 3
   },
   "file_extension": ".py",
   "mimetype": "text/x-python",
   "name": "python",
   "nbconvert_exporter": "python",
   "pygments_lexer": "ipython3",
   "version": "3.11.9"
  }
 },
 "nbformat": 4,
 "nbformat_minor": 2
}
